﻿{
  "metadata": {
    "name": "tfidf",
    "kernelspec": {
      "language": "scala",
      "name": "spark2-scala"
    },
    "language_info": {
      "codemirror_mode": "text/x-scala",
      "file_extension": ".scala",
      "mimetype": "text/x-scala",
      "name": "scala",
      "pygments_lexer": "scala"
    }
  },
  "nbformat": 4,
  "nbformat_minor": 2,
  "cells": [
    {
      "cell_type": "code",
      "execution_count": 0,
      "metadata": {
        "autoscroll": "auto"
      },
      "outputs": [],
      "source": "val df \u003d spark.read\n        .option(\"header\", \"true\")\n        .option(\"inferSchema\", \"true\")\n        .csv(\"/notebook/tripadvisor_hotel_reviews.csv\")\n        .withColumn(\"semi_clean_desc\", regexp_replace(trim(lower(col(\"Review\"))), \"[^a-zA-Z ]\", \"\"))\n        .withColumn(\"clean_desc\", regexp_replace(lower(col(\"semi_clean_desc\")), \"[ ]+\", \" \"))\n        .withColumn(\"splitted\", split(col(\"clean_desc\"), \" \"))\n        .withColumn(\"doc_len\", size(col(\"splitted\")))\n        .withColumn(\"doc_id\", monotonically_increasing_id())\n\nval collection_size \u003d df.count()\n\ndf.show"
    },
    {
      "cell_type": "code",
      "execution_count": 1,
      "metadata": {
        "autoscroll": "auto"
      },
      "outputs": [],
      "source": "val doc_w_words \u003d df\n    .select(col(\"doc_id\"), explode(col(\"splitted\")).alias(\"s_word\"))\n    .groupBy(\"s_word\")\n    .agg(countDistinct(\"doc_id\").alias(\"cnt_doc\"))\n    .orderBy(desc(\"cnt_doc\"))\n    .limit(100)\n\ndoc_w_words.show"
    },
    {
      "cell_type": "code",
      "execution_count": 2,
      "metadata": {
        "autoscroll": "auto"
      },
      "outputs": [],
      "source": "val exploded \u003d df\n    .select(\n        col(\"doc_id\"),\n        col(\"doc_len\"),\n        explode(col(\"splitted\")).alias(\"word\")\n        )\n    .groupBy(\"doc_id\", \"word\")\n    .agg(\n        count(col(\"doc_id\")).as(\"word_cnt\"),\n        first(col(\"doc_len\")).as(\"doc_len\")\n        )\n    .orderBy(col(\"doc_id\"))\n\nval tf_idf \u003d exploded\n    .join(\n        doc_w_words, \n        exploded(\"word\") \u003d\u003d\u003d doc_w_words(\"s_word\"), \n        \"inner\"\n        )\n    .withColumn(\"tf_idf\", col(\"word_cnt\") / col(\"doc_len\") * log(lit(collection_size) / col(\"cnt_doc\")))\n    .groupBy(\"doc_id\")\n    .pivot(\"word\")\n    .sum(\"tf_idf\")\n    .na.fill(0)\n    .show"
    }
  ]
}